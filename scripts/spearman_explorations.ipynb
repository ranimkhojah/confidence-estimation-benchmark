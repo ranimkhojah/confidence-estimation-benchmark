{
 "cells": [
  {
   "cell_type": "markdown",
   "id": "d9c7336c",
   "metadata": {},
   "source": [
    "## Create data with artificial scores"
   ]
  },
  {
   "cell_type": "code",
   "execution_count": 25,
   "id": "fa096391",
   "metadata": {},
   "outputs": [
    {
     "name": "stdout",
     "output_type": "stream",
     "text": [
      "watson\n",
      "luis\n",
      "snips\n",
      "rasa-sklearn\n",
      "rasa-diet\n"
     ]
    }
   ],
   "source": [
    "import json\n",
    "import random\n",
    "import os\n",
    "\n",
    "NUM_INTENTS = 10\n",
    "NLU_NAMES = ['watson', 'luis', 'snips', 'rasa-sklearn', 'rasa-diet']\n",
    "\n",
    "def get_nlu_result_dir(nlu, version):\n",
    "    return '../results/' + nlu + '/v' + str(version)\n",
    "\n",
    "def get_nlu_result_file(nlu, version, split_num):\n",
    "    nlu_result_file = get_nlu_result_dir(nlu, version) + '/' + nlu + '_split_' + str(split_num) + '_results_v' + str(version) + '.json'\n",
    "    return nlu_result_file\n",
    "\n",
    "def normalize(vector):\n",
    "    normalized_vector = [v/sum(vector) for v in vector]\n",
    "    return normalized_vector\n",
    "\n",
    "def ensure_dir_exists(path):\n",
    "    if not os.path.exists(path):\n",
    "        os.mkdir(path)\n",
    "\n",
    "def create_results_with_artificial_scores(rescoring_function, dir_suffix):\n",
    "    output_version = f'{VERSION}_{dir_suffix}'\n",
    "\n",
    "    def create_results_for_nlu_and_split(nlu, split_num):\n",
    "        data = json.load(open(get_nlu_result_file(nlu, VERSION, split_num)))\n",
    "        for i in range(len(data)):\n",
    "            test = data[i]\n",
    "            if test['text'] != '':\n",
    "                rescoring_function(test)\n",
    "        json.dump(\n",
    "            data, open(get_nlu_result_file(nlu, output_version, split_num), 'w'),\n",
    "            indent=2)\n",
    "\n",
    "    for nlu in NLU_NAMES:\n",
    "        print(nlu)\n",
    "        ensure_dir_exists(get_nlu_result_dir(nlu, output_version))\n",
    "        for split_num in range(1, NUM_SPLITS+1):\n",
    "            create_results_for_nlu_and_split(nlu, split_num)\n",
    "\n",
    "def set_random_descending_scores(test):\n",
    "    scores = sorted([random.uniform(0,1) for _ in range(NUM_INTENTS)], key=lambda x: -x)\n",
    "    if nlu != 'watson':\n",
    "        scores = normalize(scores)\n",
    "    for i in range(NUM_INTENTS):\n",
    "        test['intent_ranking'][i]['confidence'] = scores[i]\n",
    "\n",
    "def set_uniform_descending_scores(test, width=0):\n",
    "    for i in range(NUM_INTENTS):\n",
    "        noise = random.uniform(-width, width)\n",
    "        test['intent_ranking'][i]['confidence'] = 1 - (i + 1) / (NUM_INTENTS + 1) + noise\n",
    "\n",
    "def reshuffle_non_top_rankings(test):\n",
    "    non_top_indexes = list(range(1, NUM_INTENTS))\n",
    "    random.shuffle(non_top_indexes)\n",
    "    reshuffled_indexes = [0] + non_top_indexes\n",
    "    reshuffled_intent_rankings = [\n",
    "        test['intent_ranking'][i]\n",
    "        for i in reshuffled_indexes\n",
    "    ]\n",
    "    test['intent_ranking'] = reshuffled_intent_rankings\n",
    "    return test\n",
    "\n",
    "def set_perfectly_calibrated_scores_given_accuracy(test):\n",
    "    if test['intent_ranking'][0]['name'] == test['correct_intent']:\n",
    "        test['intent_ranking'][0]['confidence'] = 0.9\n",
    "        for i in range(1, NUM_INTENTS):\n",
    "            test['intent_ranking'][i]['confidence'] = (1 - 0.9) / (NUM_INTENTS - 1)\n",
    "    else:\n",
    "        for i in range(0, NUM_INTENTS):\n",
    "            if test['intent_ranking'][i]['name'] == test['correct_intent']:\n",
    "                score = 0.3\n",
    "            else:\n",
    "                score = (1 - 0.3) / (NUM_INTENTS - 1)\n",
    "            test['intent_ranking'][i]['confidence'] = score\n",
    "        test['intent_ranking'] = sorted(test['intent_ranking'], key=lambda ranking: -ranking['confidence'])\n",
    "\n",
    "def set_perfectly_calibrated_scores_given_rankings(test, noise=0):\n",
    "    if test['intent_ranking'][0]['name'] == test['correct_intent']:\n",
    "        test['intent_ranking'][0]['confidence'] = 0.9 + random.uniform(-noise, noise)\n",
    "        for i in range(1, NUM_INTENTS):\n",
    "            test['intent_ranking'][i]['confidence'] = 0.25 * (1 - (i + 1) / (NUM_INTENTS + 1)) + random.uniform(-noise, noise)\n",
    "    else:\n",
    "        test['intent_ranking'][0]['confidence'] = 0.8 + random.uniform(-noise, noise)\n",
    "        for i in range(1, NUM_INTENTS):\n",
    "            test['intent_ranking'][i]['confidence'] = 0.25 + 0.25 * (1 - (i + 1) / (NUM_INTENTS + 1)) + random.uniform(-noise, noise)\n",
    "\n",
    "def set_flat_scores(test):\n",
    "    test['intent_ranking'][0]['confidence'] = 0.5\n",
    "    for i in range(1, NUM_INTENTS):\n",
    "        test['intent_ranking'][i]['confidence'] = (1 - 0.5) / (NUM_INTENTS + 1)\n",
    "    \n",
    "            \n",
    "#def set_minimally_calibrated_scores_given_accuracy(test):\n",
    "#    test['intent_ranking'][0]['confidence'] = 0.5\n",
    "#    for i in range(1, NUM_INTENTS):\n",
    "#        test['intent_ranking'][i]['confidence'] = (1 - 0.5) / (NUM_INTENTS - 1)\n",
    "\n",
    "#create_results_with_artificial_scores(set_random_descending_scores, \"random\")\n",
    "#create_results_with_artificial_scores(set_uniform_descending_scores, \"uniform\")\n",
    "#create_results_with_artificial_scores(lambda test: set_uniform_descending_scores(test, 0.049), \"uniform_w_noise\")\n",
    "#create_results_with_artificial_scores(\n",
    "#    lambda test: set_uniform_descending_scores(reshuffle_non_top_rankings(test), 0.049),\n",
    "#    \"reshuffled_uniform_w_noise\")\n",
    "#create_results_with_artificial_scores(set_perfectly_calibrated_scores_given_accuracy, \"perfectly_calibrated\")\n",
    "#create_results_with_artificial_scores(set_perfectly_calibrated_scores_given_rankings, \"perfectly_calibrated\")\n",
    "#create_results_with_artificial_scores(\n",
    "#    lambda test: set_perfectly_calibrated_scores_given_rankings(test, 0.045),\n",
    "#    \"perfectly_calibrated_w_noise\")\n",
    "create_results_with_artificial_scores(set_flat_scores, \"flat\")\n",
    "\n",
    "\n",
    "\n",
    "\n"
   ]
  },
  {
   "cell_type": "markdown",
   "id": "929a5c15",
   "metadata": {},
   "source": [
    "## Rank-level score range sizes"
   ]
  },
  {
   "cell_type": "code",
   "execution_count": 73,
   "id": "97475a46",
   "metadata": {},
   "outputs": [
    {
     "name": "stdout",
     "output_type": "stream",
     "text": [
      "watson\n"
     ]
    },
    {
     "data": {
      "image/png": "[encoded data removed]",
      "text/plain": [
       "<Figure size 432x288 with 1 Axes>"
      ]
     },
     "metadata": {
      "needs_background": "light"
     },
     "output_type": "display_data"
    },
    {
     "name": "stdout",
     "output_type": "stream",
     "text": [
      "luis\n"
     ]
    },
    {
     "data": {
      "image/png": "[encoded data removed]",
      "text/plain": [
       "<Figure size 432x288 with 1 Axes>"
      ]
     },
     "metadata": {
      "needs_background": "light"
     },
     "output_type": "display_data"
    },
    {
     "name": "stdout",
     "output_type": "stream",
     "text": [
      "snips\n"
     ]
    },
    {
     "data": {
      "image/png": "[encoded data removed]",
      "text/plain": [
       "<Figure size 432x288 with 1 Axes>"
      ]
     },
     "metadata": {
      "needs_background": "light"
     },
     "output_type": "display_data"
    },
    {
     "name": "stdout",
     "output_type": "stream",
     "text": [
      "rasa-sklearn\n"
     ]
    },
    {
     "data": {
      "image/png": "[encoded data removed]",
      "text/plain": [
       "<Figure size 432x288 with 1 Axes>"
      ]
     },
     "metadata": {
      "needs_background": "light"
     },
     "output_type": "display_data"
    },
    {
     "name": "stdout",
     "output_type": "stream",
     "text": [
      "rasa-diet\n"
     ]
    },
    {
     "data": {
      "image/png": "[encoded data removed]",
      "text/plain": [
       "<Figure size 432x288 with 1 Axes>"
      ]
     },
     "metadata": {
      "needs_background": "light"
     },
     "output_type": "display_data"
    }
   ],
   "source": [
    "def get_scores(nlu, rank):\n",
    "    for iteration in range(NUM_SPLITS):\n",
    "        split_num = iteration + 1\n",
    "        nlu_result_file = get_nlu_result_file(nlu, VERSION, split_num)\n",
    "        data = remove_empty_preds(load_json(nlu_result_file))\n",
    "        for test in data:\n",
    "            yield test['intent_ranking'][rank]['confidence']\n",
    "\n",
    "for i, nlu in enumerate(NLU_NAMES):\n",
    "    print(nlu)\n",
    "    sizes = []\n",
    "    for rank in range(NUM_INTENTS):\n",
    "        #print('rank', rank)\n",
    "        scores = list(get_scores(nlu, rank))\n",
    "        size = max(scores) - min(scores)\n",
    "        #print(nlu, sd)\n",
    "        sizes.append(size)\n",
    "        \n",
    "    fig, ax = plt.subplots()\n",
    "    ax.bar(range(NUM_INTENTS), sizes)\n",
    "    plt.show()\n"
   ]
  },
  {
   "cell_type": "markdown",
   "id": "26465496",
   "metadata": {},
   "source": [
    "## Rank-level score SD"
   ]
  },
  {
   "cell_type": "code",
   "execution_count": 3,
   "id": "a81fdab8",
   "metadata": {},
   "outputs": [
    {
     "name": "stdout",
     "output_type": "stream",
     "text": [
      "watson\n"
     ]
    },
    {
     "data": {
      "image/png": "[encoded data removed]",
      "text/plain": [
       "<Figure size 432x288 with 1 Axes>"
      ]
     },
     "metadata": {
      "needs_background": "light"
     },
     "output_type": "display_data"
    },
    {
     "name": "stdout",
     "output_type": "stream",
     "text": [
      "luis\n"
     ]
    },
    {
     "data": {
      "image/png": "[encoded data removed]",
      "text/plain": [
       "<Figure size 432x288 with 1 Axes>"
      ]
     },
     "metadata": {
      "needs_background": "light"
     },
     "output_type": "display_data"
    },
    {
     "name": "stdout",
     "output_type": "stream",
     "text": [
      "snips\n"
     ]
    },
    {
     "data": {
      "image/png": "[encoded data removed]",
      "text/plain": [
       "<Figure size 432x288 with 1 Axes>"
      ]
     },
     "metadata": {
      "needs_background": "light"
     },
     "output_type": "display_data"
    },
    {
     "name": "stdout",
     "output_type": "stream",
     "text": [
      "rasa-sklearn\n"
     ]
    },
    {
     "data": {
      "image/png": "[encoded data removed]",
      "text/plain": [
       "<Figure size 432x288 with 1 Axes>"
      ]
     },
     "metadata": {
      "needs_background": "light"
     },
     "output_type": "display_data"
    },
    {
     "name": "stdout",
     "output_type": "stream",
     "text": [
      "rasa-diet\n"
     ]
    },
    {
     "data": {
      "image/png": "[encoded data removed]",
      "text/plain": [
       "<Figure size 432x288 with 1 Axes>"
      ]
     },
     "metadata": {
      "needs_background": "light"
     },
     "output_type": "display_data"
    }
   ],
   "source": [
    "for i, nlu in enumerate(NLU_NAMES):\n",
    "    print(nlu)\n",
    "    sds = []\n",
    "    for rank in range(NUM_INTENTS):\n",
    "        #print('rank', rank)\n",
    "        scores = list(get_scores(nlu, rank))\n",
    "        sd = stdev(scores)\n",
    "        #print(nlu, sd)\n",
    "        sds.append(sd)\n",
    "        \n",
    "    fig, ax = plt.subplots()\n",
    "    ax.bar(range(NUM_INTENTS), sds)\n",
    "    plt.show()\n",
    "\n",
    "\n",
    "\n",
    "\n"
   ]
  },
  {
   "cell_type": "code",
   "execution_count": null,
   "id": "c3287160",
   "metadata": {},
   "outputs": [],
   "source": []
  }
 ],
 "metadata": {
  "kernelspec": {
   "display_name": "Python 3",
   "language": "python",
   "name": "python3"
  },
  "language_info": {
   "codemirror_mode": {
    "name": "ipython",
    "version": 3
   },
   "file_extension": ".py",
   "mimetype": "text/x-python",
   "name": "python",
   "nbconvert_exporter": "python",
   "pygments_lexer": "ipython3",
   "version": "3.8.8"
  }
 },
 "nbformat": 4,
 "nbformat_minor": 5
}
